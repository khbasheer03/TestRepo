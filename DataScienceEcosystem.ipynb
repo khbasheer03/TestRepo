{
 "cells": [
  {
   "cell_type": "markdown",
   "id": "195ccb76",
   "metadata": {},
   "source": [
    "# Data Science Tools and Ecosystem"
   ]
  },
  {
   "cell_type": "markdown",
   "id": "5739c551",
   "metadata": {},
   "source": [
    "In this notebook, Data Science Tools and Ecosystem are summarized."
   ]
  },
  {
   "cell_type": "markdown",
   "id": "8d762eb9",
   "metadata": {},
   "source": [
    "**Objectives:**\n",
    "\n",
    "- List popular languages for Data Science\n",
    "- List Common libraries for Data Sience\n",
    "- Determine Development environment open source tools for Data Science"
   ]
  },
  {
   "cell_type": "markdown",
   "id": "53f9e78a",
   "metadata": {},
   "source": [
    "Some of the popular languages that Data Scientists use are:\n",
    "\n",
    "1. Python\n",
    "2. R\n",
    "3. SQL\n",
    "4. Java Script\n",
    "5. Scala\n",
    "5. Julia\n",
    "6. Matlab"
   ]
  },
  {
   "cell_type": "markdown",
   "id": "91ad85b9",
   "metadata": {},
   "source": [
    "Some of the commonly used libraries used by Data Scientists include:\n",
    "\n",
    "1. Numpy\n",
    "2. Pandas\n",
    "3. Matplotlit\n",
    "4. Scikit-Learn\n",
    "5. TensorFlow\n",
    "6. PyTorch\n",
    "7. Plotly\n",
    "8. GGplot\n",
    "9. Seaborn\n",
    "10. SkiPy"
   ]
  },
  {
   "cell_type": "markdown",
   "id": "1f643455",
   "metadata": {},
   "source": [
    "| Data Scince Tools |\n",
    "| :-------: |\n",
    "| **`JupyterLab`** |\n",
    "| RStudio \n",
    "| ApacheHadoop |\n",
    "| TesorFlow |\n",
    "| Apache Spark |\n",
    "| Spyder |\n"
   ]
  },
  {
   "cell_type": "markdown",
   "id": "77d9eb8e",
   "metadata": {},
   "source": [
    "### Below are a few examples of evaluating arithmetic expressions in Python"
   ]
  },
  {
   "cell_type": "code",
   "execution_count": 9,
   "id": "1d2c6da5",
   "metadata": {},
   "outputs": [
    {
     "data": {
      "text/plain": [
       "17"
      ]
     },
     "execution_count": 9,
     "metadata": {},
     "output_type": "execute_result"
    }
   ],
   "source": [
    "# This is a simple arithmetic expression to mutiply then add integers\n",
    "\n",
    "(3*4)+5"
   ]
  },
  {
   "cell_type": "code",
   "execution_count": 11,
   "id": "25975b07",
   "metadata": {},
   "outputs": [
    {
     "data": {
      "text/plain": [
       "3.3333333333333335"
      ]
     },
     "execution_count": 11,
     "metadata": {},
     "output_type": "execute_result"
    }
   ],
   "source": [
    "# This will convert 200 minutes to hours by diving by 60\n",
    "\n",
    "200/60"
   ]
  },
  {
   "cell_type": "markdown",
   "id": "a2ea0c71",
   "metadata": {},
   "source": [
    "## Author\n",
    "Khaled Ibrahim"
   ]
  }
 ],
 "metadata": {
  "kernelspec": {
   "display_name": "Python 3 (ipykernel)",
   "language": "python",
   "name": "python3"
  },
  "language_info": {
   "codemirror_mode": {
    "name": "ipython",
    "version": 3
   },
   "file_extension": ".py",
   "mimetype": "text/x-python",
   "name": "python",
   "nbconvert_exporter": "python",
   "pygments_lexer": "ipython3",
   "version": "3.10.9"
  }
 },
 "nbformat": 4,
 "nbformat_minor": 5
}
